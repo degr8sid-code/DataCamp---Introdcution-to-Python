{
  "nbformat": 4,
  "nbformat_minor": 0,
  "metadata": {
    "colab": {
      "name": "PythonBasics.ipynb",
      "provenance": [],
      "authorship_tag": "ABX9TyOTqkq86CkVMyak/bZBuJdz"
    },
    "kernelspec": {
      "name": "python3",
      "display_name": "Python 3"
    },
    "language_info": {
      "name": "python"
    }
  },
  "cells": [
    {
      "cell_type": "markdown",
      "metadata": {
        "id": "6dlRcqgOdauX"
      },
      "source": [
        "# Exercise 1 -  The Python Interface\n"
      ]
    },
    {
      "cell_type": "code",
      "metadata": {
        "colab": {
          "base_uri": "https://localhost:8080/"
        },
        "id": "Ol9Jmg-xdWLI",
        "outputId": "7628ac4f-88e5-432e-bdfc-c416c1c80660"
      },
      "source": [
        "# Example, do not modify!\n",
        "print(5 / 8)\n",
        "\n",
        "# Print the sum of 7 and 10\n",
        "print(7+10)"
      ],
      "execution_count": 2,
      "outputs": [
        {
          "output_type": "stream",
          "name": "stdout",
          "text": [
            "0.625\n",
            "17\n"
          ]
        }
      ]
    },
    {
      "cell_type": "markdown",
      "metadata": {
        "id": "QybSW-nqdmzz"
      },
      "source": [
        "# Exercise 2 - Any Comments\n",
        "\n",
        "Exercise 2: Above the print(7 + 10), add the comment."
      ]
    },
    {
      "cell_type": "code",
      "metadata": {
        "colab": {
          "base_uri": "https://localhost:8080/"
        },
        "id": "ZXPsSrl6dscn",
        "outputId": "56c9f6a2-9944-4e59-e63a-b97d2b1aea82"
      },
      "source": [
        "# Division\n",
        "print(5 / 8)\n",
        "\n",
        "#Addition\n",
        "print(7 + 10)"
      ],
      "execution_count": 3,
      "outputs": [
        {
          "output_type": "stream",
          "name": "stdout",
          "text": [
            "0.625\n",
            "17\n"
          ]
        }
      ]
    },
    {
      "cell_type": "markdown",
      "metadata": {
        "id": "dpqrJrFMd3VF"
      },
      "source": [
        "# Python as a calculator\n",
        "Python is perfectly suited to do basic calculations. Apart from addition, subtraction, multiplication and division, there is also support for more advanced operations such as:\n",
        "\n",
        "Exponentiation: **. This operator raises the number to its left to the power of the number to its right. For example 4**2 will give 16.\n",
        "Modulo: %. This operator returns the remainder of the division of the number to the left by the number on its right. For example 18 % 7 equals 4.\n",
        "The code in the script gives some examples."
      ]
    },
    {
      "cell_type": "code",
      "metadata": {
        "colab": {
          "base_uri": "https://localhost:8080/"
        },
        "id": "NS4vtUAReAr4",
        "outputId": "1b369d02-dadc-434d-ea99-c7eddf5c2c40"
      },
      "source": [
        "# Addition, subtraction\n",
        "print(5 + 5)\n",
        "print(5 - 5)\n",
        "\n",
        "# Multiplication, division, modulo, and exponentiation\n",
        "print(3 * 5)\n",
        "print(10 / 2)\n",
        "print(18 % 7)\n",
        "print(4 ** 2)\n",
        "\n",
        "# How much is your $100 worth after 7 years?\n",
        "print(100 * 1.1**7)"
      ],
      "execution_count": 4,
      "outputs": [
        {
          "output_type": "stream",
          "name": "stdout",
          "text": [
            "10\n",
            "0\n",
            "15\n",
            "5.0\n",
            "4\n",
            "16\n",
            "194.87171000000012\n"
          ]
        }
      ]
    },
    {
      "cell_type": "markdown",
      "metadata": {
        "id": "coA3lB_yeWZE"
      },
      "source": [
        "# Variable Assignment\n",
        "In Python, a variable allows you to refer to a value with a name. To create a variable use =, like this example:\n",
        "\n",
        "x = 5\n",
        "\n",
        "You can now use the name of this variable, x, instead of the actual value, 5.\n",
        "\n",
        "Remember, = in Python means assignment, it doesn't test equality!\n",
        "\n",
        "**Instructions**\n",
        "Create a variable savings with the value 100.\n",
        "Check out this variable by typing print(savings) in the script."
      ]
    },
    {
      "cell_type": "code",
      "metadata": {
        "colab": {
          "base_uri": "https://localhost:8080/"
        },
        "id": "DNZcznuGeiRV",
        "outputId": "c55a4c0e-c5b5-42be-f307-36bb15c793f4"
      },
      "source": [
        "# Create a variable savings\n",
        "savings = 100\n",
        "\n",
        "# Print out savings\n",
        "print(savings)"
      ],
      "execution_count": 5,
      "outputs": [
        {
          "output_type": "stream",
          "name": "stdout",
          "text": [
            "100\n"
          ]
        }
      ]
    },
    {
      "cell_type": "markdown",
      "metadata": {
        "id": "5RQiotQMeuL1"
      },
      "source": [
        "# Calculations with variables\n",
        "Remember how you calculated the money you ended up with after 7 years of investing $100? You did something like this:\n",
        "\n",
        "100 * 1.1 ** 7\n",
        "\n",
        "Instead of calculating with the actual values, you can use variables instead. The savings variable you've created in the previous exercise represents the $100 you started with. It's up to you to create a new variable to represent 1.1 and then redo the calculations!\n",
        "\n",
        "**Instructions**\n",
        "\n",
        "Create a variable growth_multiplier, equal to 1.1.\n",
        "\n",
        "Create a variable, result, equal to the amount of money you saved after 7 years.\n",
        "\n",
        "Print out the value of result."
      ]
    },
    {
      "cell_type": "code",
      "metadata": {
        "colab": {
          "base_uri": "https://localhost:8080/"
        },
        "id": "XvuJMK8ZezYc",
        "outputId": "8722efb8-ba14-4eb9-dcec-1e3ffe301813"
      },
      "source": [
        "# Create a variable savings\n",
        "savings = 100\n",
        "\n",
        "# Create a variable growth_multiplier\n",
        "growth_multiplier = 1.1\n",
        "\n",
        "# Calculate result\n",
        "result = savings * growth_multiplier**7\n",
        "\n",
        "# Print out result\n",
        "print(result)"
      ],
      "execution_count": 6,
      "outputs": [
        {
          "output_type": "stream",
          "name": "stdout",
          "text": [
            "194.87171000000012\n"
          ]
        }
      ]
    },
    {
      "cell_type": "markdown",
      "metadata": {
        "id": "0shpq2Fse67r"
      },
      "source": [
        "# Other variable types\n",
        "In the previous exercise, you worked with two Python data types:\n",
        "\n",
        "int, or integer: a number without a fractional part. savings, with the value 100, is an example of an integer.\n",
        "\n",
        "float, or floating point: a number that has both an integer and fractional part, separated by a point. growth_multiplier, with the value 1.1, is an example of a float.\n",
        "\n",
        "Next to numerical data types, there are two other very common data types:\n",
        "\n",
        "str, or string: a type to represent text. You can use single or double quotes to build a string.\n",
        "\n",
        "bool, or boolean: a type to represent logical values. Can only be True or False (the capitalization is important!).\n",
        "\n",
        "**Instructions**\n",
        "\n",
        "Create a new string, desc, with the value \"compound interest\".\n",
        "\n",
        "Create a new boolean, profitable, with the value True."
      ]
    },
    {
      "cell_type": "code",
      "metadata": {
        "id": "RUL2psldfUwt"
      },
      "source": [
        "# Create a variable desc\n",
        "desc = 'compound interest'\n",
        "\n",
        "# Create a variable profitable\n",
        "profitable = True"
      ],
      "execution_count": 7,
      "outputs": []
    },
    {
      "cell_type": "markdown",
      "metadata": {
        "id": "ueNvH6sFf1Pl"
      },
      "source": [
        "# Operations with other types\n",
        "Hugo mentioned that different types behave differently in Python.\n",
        "\n",
        "When you sum two strings, for example, you'll get different behavior than when you sum two integers or two booleans.\n",
        "\n",
        "In the script some variables with different types have already been created. It's up to you to use them.\n",
        "\n",
        "**Instructions**\n",
        "\n",
        "Calculate the product of savings and growth_multiplier. Store the result in year1.\n",
        "\n",
        "What do you think the resulting type will be? Find out by printing out the type of year1.\n",
        "\n",
        "Calculate the sum of desc and desc and store the result in a new variable doubledesc.\n",
        "\n",
        "Print out doubledesc. Did you expect this?"
      ]
    },
    {
      "cell_type": "code",
      "metadata": {
        "colab": {
          "base_uri": "https://localhost:8080/"
        },
        "id": "Y1n7eWpuf5E9",
        "outputId": "61466a86-d109-49b5-db09-a3af70d0a8cf"
      },
      "source": [
        "savings = 100\n",
        "growth_multiplier = 1.1\n",
        "desc = \"compound interest\"\n",
        "\n",
        "# Assign product of growth_multiplier and savings to year1\n",
        "year1 = growth_multiplier * savings\n",
        "\n",
        "# Print the type of year1\n",
        "print(type(year1))\n",
        "\n",
        "# Assign sum of desc and desc to doubledesc\n",
        "doubledesc = desc + desc\n",
        "\n",
        "# Print out doubledesc\n",
        "print(doubledesc)"
      ],
      "execution_count": 8,
      "outputs": [
        {
          "output_type": "stream",
          "name": "stdout",
          "text": [
            "<class 'float'>\n",
            "compound interestcompound interest\n"
          ]
        }
      ]
    },
    {
      "cell_type": "markdown",
      "metadata": {
        "id": "Us6di3KcgEwb"
      },
      "source": [
        "# Type conversion\n",
        "Using the + operator to paste together two strings can be very useful in building custom messages.\n",
        "\n",
        "Suppose, for example, that you've calculated the return of your investment and want to summarize the results in a string. Assuming the integer savings and float result are defined, you can try something like this:\n",
        "\n",
        "print(\"I started with $\" + savings + \" and now have $\" + result + \". Awesome!\")\n",
        "This will not work, though, as you cannot simply sum strings and integers/floats.\n",
        "\n",
        "To fix the error, you'll need to explicitly convert the types of your variables. More specifically, you'll need str(), to convert a value into a string. str(savings), for example, will convert the integer savings to a string.\n",
        "\n",
        "Similar functions such as int(), float() and bool() will help you convert Python values into any type.\n",
        "\n",
        "**Instructions**\n",
        "\n",
        "Hit Run Code to run the code. Try to understand the error message.\n",
        "\n",
        "Fix the code such that the printout runs without errors; use the function str() to convert the variables to strings.\n",
        "\n",
        "Convert the variable pi_string to a float and store this float as a new variable, pi_float."
      ]
    },
    {
      "cell_type": "code",
      "metadata": {
        "colab": {
          "base_uri": "https://localhost:8080/"
        },
        "id": "jLN1N05RgIFb",
        "outputId": "6433a991-0735-4b46-e769-0cd71ec6dfa7"
      },
      "source": [
        "# Definition of savings and result\n",
        "savings = 100\n",
        "result = 100 * 1.10 ** 7\n",
        "\n",
        "# Fix the printout\n",
        "print(\"I started with $\" + str(savings) + \" and now have $\" + str(result) + \". Awesome!\")\n",
        "\n",
        "# Definition of pi_string\n",
        "pi_string = \"3.1415926\"\n",
        "\n",
        "# Convert pi_string into float: pi_float\n",
        "pi_float = float(pi_string)"
      ],
      "execution_count": 9,
      "outputs": [
        {
          "output_type": "stream",
          "name": "stdout",
          "text": [
            "I started with $100 and now have $194.87171000000012. Awesome!\n"
          ]
        }
      ]
    }
  ]
}